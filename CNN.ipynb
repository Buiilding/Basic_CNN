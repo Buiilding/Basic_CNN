{
 "cells": [
  {
   "cell_type": "code",
   "execution_count": 1,
   "id": "2ac90b8d-ddc3-49f3-be1f-116ac7dcf266",
   "metadata": {},
   "outputs": [
    {
     "name": "stdout",
     "output_type": "stream",
     "text": [
      "Requirement already satisfied: torch in c:\\users\\tuana\\miniconda3\\envs\\workspace\\lib\\site-packages (1.13.0)\n",
      "Requirement already satisfied: typing_extensions in c:\\users\\tuana\\miniconda3\\envs\\workspace\\lib\\site-packages (from torch) (4.4.0)\n",
      "Note: you may need to restart the kernel to use updated packages.\n"
     ]
    }
   ],
   "source": [
    "pip install torch"
   ]
  },
  {
   "cell_type": "code",
   "execution_count": 2,
   "id": "5c44902c-059d-41e8-91a2-d27befce9f77",
   "metadata": {},
   "outputs": [
    {
     "name": "stdout",
     "output_type": "stream",
     "text": [
      "Requirement already satisfied: torchsummary in c:\\users\\tuana\\miniconda3\\envs\\workspace\\lib\\site-packages (1.5.1)\n",
      "Note: you may need to restart the kernel to use updated packages.\n"
     ]
    }
   ],
   "source": [
    "pip install torchsummary"
   ]
  },
  {
   "cell_type": "code",
   "execution_count": null,
   "id": "77686a5d-80c1-47a3-87f4-aa70ab65a56c",
   "metadata": {},
   "outputs": [],
   "source": []
  },
  {
   "cell_type": "code",
   "execution_count": 3,
   "id": "0ca2d35c-4c86-4e4e-9dbf-2a00b92e8118",
   "metadata": {},
   "outputs": [],
   "source": [
    "import time #clock of your computer\n",
    "import torch #operated by facebook with a lot of library\n",
    "import torch.nn as nn\n",
    "import torchvision.datasets as datasets\n",
    "import torch.optim as optim\n",
    "import torchvision.transforms as transforms\n",
    "from torch.utils.data import DataLoader\n",
    "from torch.autograd import Variable\n",
    "\n",
    "\n",
    "!pip install torchsummaryX --quiet\n",
    "from torchsummaryX import summary as summaryX\n",
    "from torchsummary import summary\n",
    "\n",
    "#from torch.utils.tensorboard import SummaryWriter\n",
    "#writer = SummaryWriter()"
   ]
  },
  {
   "cell_type": "code",
   "execution_count": 17,
   "id": "e1cfe138-3177-4e0b-bc38-13f80b51a5c2",
   "metadata": {},
   "outputs": [
    {
     "data": {
      "text/plain": [
       "LeNet(\n",
       "  (conv1): Conv2d(1, 6, kernel_size=(5, 5), stride=(1, 1))\n",
       "  (conv2): Conv2d(6, 16, kernel_size=(5, 5), stride=(1, 1))\n",
       "  (conv3): Conv2d(16, 120, kernel_size=(5, 5), stride=(1, 1))\n",
       "  (linear1): Linear(in_features=120, out_features=84, bias=True)\n",
       "  (linear2): Linear(in_features=84, out_features=10, bias=True)\n",
       "  (tanh): Tanh()\n",
       "  (avgpool): AvgPool2d(kernel_size=2, stride=2, padding=0)\n",
       ")"
      ]
     },
     "execution_count": 17,
     "metadata": {},
     "output_type": "execute_result"
    }
   ],
   "source": [
    "class LeNet(nn.Module):\n",
    "  def __init__(self):\n",
    "    super(LeNet, self).__init__()\n",
    "\n",
    "    self.conv1 = nn.Conv2d(in_channels = 1, out_channels = 6, \n",
    "                           kernel_size = 5, stride = 1, padding = 0)\n",
    "    self.conv2 = nn.Conv2d(in_channels = 6, out_channels = 16, \n",
    "                           kernel_size = 5, stride = 1, padding = 0)\n",
    "    self.conv3 = nn.Conv2d(in_channels = 16, out_channels = 120, \n",
    "                           kernel_size = 5, stride = 1, padding = 0)\n",
    "    self.linear1 = nn.Linear(120, 84)\n",
    "    self.linear2 = nn.Linear(84, 10)\n",
    "    self.tanh = nn.Tanh()\n",
    "    self.avgpool = nn.AvgPool2d(kernel_size = 2, stride = 2)\n",
    "\n",
    "  def forward(self, x):\n",
    "    x = self.conv1(x)\n",
    "    x = self.tanh(x)\n",
    "    x = self.avgpool(x)\n",
    "    x = self.conv2(x)\n",
    "    x = self.tanh(x)\n",
    "    x = self.avgpool(x)\n",
    "    x = self.conv3(x)\n",
    "    x = self.tanh(x)\n",
    "    \n",
    "    x = x.reshape(x.shape[0], -1)\n",
    "    x = self.linear1(x)\n",
    "    x = self.tanh(x)\n",
    "    x = self.linear2(x)\n",
    "    return x\n",
    "\n",
    "model = LeNet()\n",
    "model"
   ]
  },
  {
   "cell_type": "code",
   "execution_count": 17,
   "id": "e5d156d5-171c-48dd-88c7-4e8d3d1ee04f",
   "metadata": {},
   "outputs": [
    {
     "data": {
      "text/plain": [
       "LeNet(\n",
       "  (conv1): Conv2d(1, 6, kernel_size=(5, 5), stride=(1, 1))\n",
       "  (conv2): Conv2d(6, 16, kernel_size=(5, 5), stride=(1, 1))\n",
       "  (conv3): Conv2d(16, 120, kernel_size=(5, 5), stride=(1, 1))\n",
       "  (linear1): Linear(in_features=120, out_features=84, bias=True)\n",
       "  (linear2): Linear(in_features=84, out_features=10, bias=True)\n",
       "  (tanh): Tanh()\n",
       "  (avgpool): AvgPool2d(kernel_size=2, stride=2, padding=0)\n",
       ")"
      ]
     },
     "execution_count": 17,
     "metadata": {},
     "output_type": "execute_result"
    }
   ],
   "source": [
    "class LeNet(nn.Module):\n",
    "  def __init__(self):\n",
    "    super(LeNet, self).__init__()\n",
    "\n",
    "    self.conv1 = nn.Conv2d(in_channels = 1, out_channels = 6, \n",
    "                           kernel_size = 5, stride = 1, padding = 0)\n",
    "    self.conv2 = nn.Conv2d(in_channels = 6, out_channels = 16, \n",
    "                           kernel_size = 5, stride = 1, padding = 0)\n",
    "    self.conv3 = nn.Conv2d(in_channels = 16, out_channels = 120, \n",
    "                           kernel_size = 5, stride = 1, padding = 0)\n",
    "    self.linear1 = nn.Linear(120, 84)\n",
    "    self.linear2 = nn.Linear(84, 10)\n",
    "    self.tanh = nn.Tanh()\n",
    "    self.avgpool = nn.AvgPool2d(kernel_size = 2, stride = 2)\n",
    "\n",
    "  def forward(self, x):\n",
    "    x = self.conv1(x)\n",
    "    x = self.tanh(x)\n",
    "    x = self.avgpool(x)\n",
    "    x = self.conv2(x)\n",
    "    x = self.tanh(x)\n",
    "    x = self.avgpool(x)\n",
    "    x = self.conv3(x)\n",
    "    x = self.tanh(x)\n",
    "    \n",
    "    x = x.reshape(x.shape[0], -1)\n",
    "    x = self.linear1(x)\n",
    "    x = self.tanh(x)\n",
    "    x = self.linear2(x)\n",
    "    return x\n",
    "\n",
    "model = LeNet()\n",
    "model"
   ]
  },
  {
   "cell_type": "code",
   "execution_count": 4,
   "id": "6991a835-3980-49cd-b3cf-cc905182f6d2",
   "metadata": {},
   "outputs": [
    {
     "name": "stdout",
     "output_type": "stream",
     "text": [
      "C:\\Users\\tuana\\workspace\n"
     ]
    }
   ],
   "source": [
    "%cd C:\\Users\\tuana\\workspace"
   ]
  },
  {
   "cell_type": "code",
   "execution_count": 21,
   "id": "fbdb045b-aea0-44ac-a730-ad7c5c9d2d66",
   "metadata": {},
   "outputs": [
    {
     "data": {
      "text/plain": [
       "LeNet(\n",
       "  (conv1): Conv2d(1, 6, kernel_size=(5, 5), stride=(1, 1))\n",
       "  (conv2): Conv2d(6, 16, kernel_size=(5, 5), stride=(1, 1))\n",
       "  (conv3): Conv2d(16, 120, kernel_size=(5, 5), stride=(1, 1))\n",
       "  (linear1): Linear(in_features=120, out_features=84, bias=True)\n",
       "  (linear2): Linear(in_features=84, out_features=10, bias=True)\n",
       "  (tanh): Tanh()\n",
       "  (avgpool): AvgPool2d(kernel_size=2, stride=2, padding=0)\n",
       ")"
      ]
     },
     "execution_count": 21,
     "metadata": {},
     "output_type": "execute_result"
    }
   ],
   "source": [
    "from Net import LeNet\n",
    "c_model = LeNet()\n",
    "c_model\n"
   ]
  },
  {
   "cell_type": "code",
   "execution_count": 22,
   "id": "29481bf2-5109-4661-b5e6-e1c4b185d9e2",
   "metadata": {},
   "outputs": [
    {
     "name": "stdout",
     "output_type": "stream",
     "text": [
      "torch.Size([64, 10])\n"
     ]
    }
   ],
   "source": [
    "x = torch.randn(64,1,32,32)\n",
    "output = c_model(x)\n",
    "print(output.shape)\n"
   ]
  },
  {
   "cell_type": "code",
   "execution_count": 23,
   "id": "56b05e79-6c2f-4fa4-aa85-26f89f9fc031",
   "metadata": {},
   "outputs": [
    {
     "name": "stdout",
     "output_type": "stream",
     "text": [
      "torch.Size([64, 1, 32, 32])\n"
     ]
    }
   ],
   "source": [
    "print(x.shape)"
   ]
  },
  {
   "cell_type": "code",
   "execution_count": 24,
   "id": "e560af3f-2f28-4255-8f90-8e5a4cbfc18d",
   "metadata": {},
   "outputs": [
    {
     "data": {
      "text/plain": [
       "tensor([[[[ 0.2089,  0.8119, -0.4980,  ...,  0.5973,  1.3078,  0.5297],\n",
       "          [ 1.4078, -0.8347,  1.0187,  ..., -0.5145, -1.4618,  1.9075],\n",
       "          [ 1.7174, -1.2026,  0.7993,  ..., -1.8122, -1.0679,  0.0548],\n",
       "          ...,\n",
       "          [ 0.9267,  0.4270,  0.8330,  ..., -2.2123,  0.6520,  0.1634],\n",
       "          [-0.4285,  0.2482, -1.3657,  ..., -1.6886, -0.5980,  0.8987],\n",
       "          [ 0.7078, -0.4031, -0.4606,  ...,  0.7247, -0.4004,  0.4856]]],\n",
       "\n",
       "\n",
       "        [[[ 0.0170, -1.5083,  2.1524,  ...,  1.7492, -0.3176, -1.1966],\n",
       "          [-2.2006,  0.7343, -1.7508,  ...,  2.0133, -0.1192, -0.8160],\n",
       "          [ 0.9344, -1.2126,  0.1566,  ..., -0.2598,  0.4098,  1.0432],\n",
       "          ...,\n",
       "          [-1.3506, -0.2315, -0.9741,  ...,  0.3083,  1.1387,  0.6021],\n",
       "          [ 1.3544, -0.1397,  0.9673,  ..., -1.1776,  0.9694,  0.0430],\n",
       "          [-1.2513,  1.0551, -0.3382,  ...,  1.4822, -0.8290, -0.1536]]],\n",
       "\n",
       "\n",
       "        [[[-0.7909,  1.5074,  0.9110,  ...,  0.3453, -1.0256, -1.0116],\n",
       "          [ 0.7541, -2.0253,  0.1283,  ...,  1.3296,  0.1834, -0.4581],\n",
       "          [ 0.2324,  0.9332, -1.0160,  ...,  1.2433,  1.0194,  0.5023],\n",
       "          ...,\n",
       "          [ 1.1565, -1.2436, -1.0719,  ...,  0.3642, -0.3493,  1.1794],\n",
       "          [ 0.6120,  0.3383,  1.3361,  ...,  1.7134,  0.0876, -0.6859],\n",
       "          [-0.5554, -0.3828, -0.4778,  ...,  0.9070,  1.3385,  1.8481]]],\n",
       "\n",
       "\n",
       "        ...,\n",
       "\n",
       "\n",
       "        [[[-0.6411,  0.0316,  0.3017,  ...,  1.0181, -0.3152, -0.2959],\n",
       "          [ 0.0887, -0.5648,  1.1113,  ...,  1.0858,  0.2891, -0.9533],\n",
       "          [ 1.6809,  0.5863,  2.1183,  ..., -0.2495,  0.8559, -0.0758],\n",
       "          ...,\n",
       "          [-0.5885,  1.3392, -1.0764,  ..., -1.0160, -0.1862, -0.0437],\n",
       "          [-0.0098, -0.8950,  0.4453,  ..., -0.2139,  1.1966, -0.3543],\n",
       "          [ 0.3540,  0.8180, -1.4016,  ..., -0.2996, -1.0012, -0.3736]]],\n",
       "\n",
       "\n",
       "        [[[ 0.1469,  0.1018,  0.5302,  ..., -0.3946, -0.2684, -1.4251],\n",
       "          [-0.9162, -0.0181, -0.4245,  ..., -0.7360, -0.1353, -1.5708],\n",
       "          [ 2.3075,  1.6841,  0.5389,  ..., -0.9637,  0.0863,  1.4750],\n",
       "          ...,\n",
       "          [-2.1237,  0.0871,  0.9847,  ..., -0.7629, -1.4694, -0.2792],\n",
       "          [ 1.1301, -0.4667, -1.3718,  ..., -0.2473, -1.3044, -1.1376],\n",
       "          [-3.2921, -1.2221, -0.3619,  ...,  0.4586, -0.9728, -0.6162]]],\n",
       "\n",
       "\n",
       "        [[[ 1.2768,  0.1810, -0.1644,  ..., -0.3561,  0.8910,  0.7601],\n",
       "          [-0.7816,  1.4414, -0.2836,  ...,  0.6993,  1.4162, -1.5035],\n",
       "          [-0.8813,  0.2949, -0.6220,  ..., -0.1459, -0.3948,  0.6902],\n",
       "          ...,\n",
       "          [-0.7334, -0.4824, -1.5153,  ...,  0.0381,  1.1919,  1.1447],\n",
       "          [-0.7314, -0.3579, -0.6279,  ...,  0.2255, -0.2720, -0.8887],\n",
       "          [-0.8408,  1.8743,  1.1011,  ..., -0.5819, -1.8378,  0.2607]]]])"
      ]
     },
     "execution_count": 24,
     "metadata": {},
     "output_type": "execute_result"
    }
   ],
   "source": [
    "x"
   ]
  },
  {
   "cell_type": "code",
   "execution_count": 12,
   "id": "5bef3d6c-4b3e-4c80-bcb3-0c1e0e0594d4",
   "metadata": {},
   "outputs": [
    {
     "ename": "AttributeError",
     "evalue": "'AlexNet' object has no attribute 'layer1'",
     "output_type": "error",
     "traceback": [
      "\u001b[1;31m---------------------------------------------------------------------------\u001b[0m",
      "\u001b[1;31mAttributeError\u001b[0m                            Traceback (most recent call last)",
      "\u001b[1;32m~\\AppData\\Local\\Temp\\ipykernel_9872\\4185416616.py\u001b[0m in \u001b[0;36m<module>\u001b[1;34m\u001b[0m\n\u001b[0;32m      1\u001b[0m \u001b[1;32mfrom\u001b[0m \u001b[0mNet\u001b[0m \u001b[1;32mimport\u001b[0m \u001b[0mAlexNet\u001b[0m\u001b[1;33m\u001b[0m\u001b[1;33m\u001b[0m\u001b[0m\n\u001b[1;32m----> 2\u001b[1;33m \u001b[0ma_model\u001b[0m \u001b[1;33m=\u001b[0m \u001b[0mAlexNet\u001b[0m\u001b[1;33m(\u001b[0m\u001b[1;33m)\u001b[0m\u001b[1;33m\u001b[0m\u001b[1;33m\u001b[0m\u001b[0m\n\u001b[0m\u001b[0;32m      3\u001b[0m \u001b[0ma_model\u001b[0m\u001b[1;33m\u001b[0m\u001b[1;33m\u001b[0m\u001b[0m\n",
      "\u001b[1;32m~\\workspace\\Net.py\u001b[0m in \u001b[0;36m__init__\u001b[1;34m(self, num_classes)\u001b[0m\n\u001b[0;32m     46\u001b[0m     \u001b[1;32mdef\u001b[0m \u001b[0m__init__\u001b[0m\u001b[1;33m(\u001b[0m\u001b[0mself\u001b[0m\u001b[1;33m,\u001b[0m \u001b[0mnum_classes\u001b[0m \u001b[1;33m=\u001b[0m \u001b[1;36m10\u001b[0m \u001b[1;33m)\u001b[0m \u001b[1;33m:\u001b[0m\u001b[1;33m\u001b[0m\u001b[1;33m\u001b[0m\u001b[0m\n\u001b[0;32m     47\u001b[0m         \u001b[0msuper\u001b[0m\u001b[1;33m(\u001b[0m\u001b[0mAlexNet\u001b[0m\u001b[1;33m,\u001b[0m \u001b[0mself\u001b[0m\u001b[1;33m)\u001b[0m\u001b[1;33m.\u001b[0m \u001b[0m__init__\u001b[0m\u001b[1;33m(\u001b[0m\u001b[1;33m)\u001b[0m\u001b[1;33m\u001b[0m\u001b[1;33m\u001b[0m\u001b[0m\n\u001b[1;32m---> 48\u001b[1;33m         self.layer1 = nn.Sequential(\n\u001b[0m\u001b[0;32m     49\u001b[0m             \u001b[0mnn\u001b[0m\u001b[1;33m.\u001b[0m\u001b[0mConv2d\u001b[0m\u001b[1;33m(\u001b[0m\u001b[1;36m3\u001b[0m\u001b[1;33m,\u001b[0m\u001b[1;36m96\u001b[0m\u001b[1;33m,\u001b[0m\u001b[0mkernel_size\u001b[0m \u001b[1;33m=\u001b[0m \u001b[1;36m11\u001b[0m \u001b[1;33m,\u001b[0m \u001b[0mstride\u001b[0m \u001b[1;33m=\u001b[0m \u001b[1;36m4\u001b[0m\u001b[1;33m,\u001b[0m \u001b[0mpadding\u001b[0m\u001b[1;33m=\u001b[0m\u001b[1;36m0\u001b[0m\u001b[1;33m)\u001b[0m\u001b[1;33m,\u001b[0m\u001b[1;33m\u001b[0m\u001b[1;33m\u001b[0m\u001b[0m\n\u001b[0;32m     50\u001b[0m             \u001b[0mnn\u001b[0m\u001b[1;33m.\u001b[0m\u001b[0mBatchNorm2d\u001b[0m\u001b[1;33m(\u001b[0m\u001b[1;36m96\u001b[0m\u001b[1;33m)\u001b[0m\u001b[1;33m,\u001b[0m\u001b[1;33m\u001b[0m\u001b[1;33m\u001b[0m\u001b[0m\n",
      "\u001b[1;32m~\\miniconda3\\envs\\workspace\\lib\\site-packages\\torch\\nn\\modules\\module.py\u001b[0m in \u001b[0;36m__getattr__\u001b[1;34m(self, name)\u001b[0m\n\u001b[0;32m   1264\u001b[0m                 \u001b[1;32mreturn\u001b[0m \u001b[0mmodules\u001b[0m\u001b[1;33m[\u001b[0m\u001b[0mname\u001b[0m\u001b[1;33m]\u001b[0m\u001b[1;33m\u001b[0m\u001b[1;33m\u001b[0m\u001b[0m\n\u001b[0;32m   1265\u001b[0m         raise AttributeError(\"'{}' object has no attribute '{}'\".format(\n\u001b[1;32m-> 1266\u001b[1;33m             type(self).__name__, name))\n\u001b[0m\u001b[0;32m   1267\u001b[0m \u001b[1;33m\u001b[0m\u001b[0m\n\u001b[0;32m   1268\u001b[0m     \u001b[1;32mdef\u001b[0m \u001b[0m__setattr__\u001b[0m\u001b[1;33m(\u001b[0m\u001b[0mself\u001b[0m\u001b[1;33m,\u001b[0m \u001b[0mname\u001b[0m\u001b[1;33m:\u001b[0m \u001b[0mstr\u001b[0m\u001b[1;33m,\u001b[0m \u001b[0mvalue\u001b[0m\u001b[1;33m:\u001b[0m \u001b[0mUnion\u001b[0m\u001b[1;33m[\u001b[0m\u001b[0mTensor\u001b[0m\u001b[1;33m,\u001b[0m \u001b[1;34m'Module'\u001b[0m\u001b[1;33m]\u001b[0m\u001b[1;33m)\u001b[0m \u001b[1;33m->\u001b[0m \u001b[1;32mNone\u001b[0m\u001b[1;33m:\u001b[0m\u001b[1;33m\u001b[0m\u001b[1;33m\u001b[0m\u001b[0m\n",
      "\u001b[1;31mAttributeError\u001b[0m: 'AlexNet' object has no attribute 'layer1'"
     ]
    }
   ],
   "source": [
    "from Net import AlexNet\n",
    "a_model = AlexNet()\n",
    "a_model"
   ]
  },
  {
   "cell_type": "code",
   "execution_count": 11,
   "id": "5a06a4d5-9b7d-43b2-9485-cdaffe18ae2e",
   "metadata": {},
   "outputs": [
    {
     "ename": "ImportError",
     "evalue": "cannot import name 'VGG16' from 'Net' (C:\\Users\\tuana\\workspace\\Net.py)",
     "output_type": "error",
     "traceback": [
      "\u001b[1;31m---------------------------------------------------------------------------\u001b[0m",
      "\u001b[1;31mImportError\u001b[0m                               Traceback (most recent call last)",
      "\u001b[1;32m~\\AppData\\Local\\Temp\\ipykernel_9872\\832508328.py\u001b[0m in \u001b[0;36m<module>\u001b[1;34m\u001b[0m\n\u001b[1;32m----> 1\u001b[1;33m \u001b[1;32mfrom\u001b[0m \u001b[0mNet\u001b[0m \u001b[1;32mimport\u001b[0m \u001b[0mVGG16\u001b[0m\u001b[1;33m\u001b[0m\u001b[1;33m\u001b[0m\u001b[0m\n\u001b[0m\u001b[0;32m      2\u001b[0m \u001b[0mb_model\u001b[0m \u001b[1;33m=\u001b[0m \u001b[0mVGG16\u001b[0m\u001b[1;33m(\u001b[0m\u001b[1;33m)\u001b[0m\u001b[1;33m\u001b[0m\u001b[1;33m\u001b[0m\u001b[0m\n\u001b[0;32m      3\u001b[0m \u001b[0mb_model\u001b[0m\u001b[1;33m\u001b[0m\u001b[1;33m\u001b[0m\u001b[0m\n",
      "\u001b[1;31mImportError\u001b[0m: cannot import name 'VGG16' from 'Net' (C:\\Users\\tuana\\workspace\\Net.py)"
     ]
    }
   ],
   "source": [
    "from Net import VGG16\n",
    "b_model = VGG16()\n",
    "b_model"
   ]
  }
 ],
 "metadata": {
  "kernelspec": {
   "display_name": "Python 3 (ipykernel)",
   "language": "python",
   "name": "python3"
  },
  "language_info": {
   "codemirror_mode": {
    "name": "ipython",
    "version": 3
   },
   "file_extension": ".py",
   "mimetype": "text/x-python",
   "name": "python",
   "nbconvert_exporter": "python",
   "pygments_lexer": "ipython3",
   "version": "3.7.15"
  }
 },
 "nbformat": 4,
 "nbformat_minor": 5
}
